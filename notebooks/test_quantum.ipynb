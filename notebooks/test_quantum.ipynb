{
 "cells": [
  {
   "cell_type": "code",
   "execution_count": 1,
   "metadata": {},
   "outputs": [],
   "source": [
    "# First cell - setup imports\n",
    "import sys\n",
    "from pathlib import Path\n",
    "\n",
    "# Import the package\n",
    "from topolansatz.topology import TopologyHandler\n",
    "from topolansatz.circuits import CircuitBuilder\n",
    "from topolansatz.evaluator import CircuitEvaluator\n",
    "from topolansatz.stitching import CircuitStitcher\n",
    "from topolansatz.main import TopolAnsatz"
   ]
  },
  {
   "cell_type": "code",
   "execution_count": 2,
   "metadata": {},
   "outputs": [
    {
     "name": "stdout",
     "output_type": "stream",
     "text": [
      "Creating TopolAnsatz instance...\n",
      "\n",
      "1. Testing Topology...\n",
      "Found 32 4-qubit subgraphs\n",
      "\n",
      "2. Testing Circuit Building...\n",
      "Normalized graph nodes: [0, 1, 2, 3]\n",
      "Index mapping: {0: 0, 1: 1, 2: 2, 3: 3}\n"
     ]
    },
    {
     "data": {
      "text/html": [
       "<pre style=\"word-wrap: normal;white-space: pre;background: #fff0;line-height: 1.1;font-family: &quot;Courier New&quot;,Courier,monospace\">                ┌───┐                ┌─────────────────────────┐     »\n",
       "q_0: ───────────┤ T ├─────────────■──┤ Ry(θ_test_circuit_ry_2) ├─────»\n",
       "     ┌──────────┴───┴──────────┐┌─┴─┐└─────────────────────────┘┌───┐»\n",
       "q_1: ┤ Rx(θ_test_circuit_rx_0) ├┤ X ├─────────────■─────────────┤ T ├»\n",
       "     ├─────────────────────────┤└───┘           ┌─┴─┐           └───┘»\n",
       "q_2: ┤ Rx(θ_test_circuit_rx_1) ├────────────────┤ X ├─────────────■──»\n",
       "     └──────────┬───┬──────────┘                └───┘           ┌─┴─┐»\n",
       "q_3: ───────────┤ S ├───────────────────────────────────────────┤ X ├»\n",
       "                └───┘                                           └───┘»\n",
       "«                                      \n",
       "«q_0: ─────────────■───────────────────\n",
       "«                ┌─┴─┐                 \n",
       "«q_1: ───────────┤ X ├────────────X────\n",
       "«                ├───┤            │    \n",
       "«q_2: ───────────┤ T ├────────────X──X─\n",
       "«     ┌──────────┴───┴──────────┐    │ \n",
       "«q_3: ┤ Rz(θ_test_circuit_rz_3) ├────X─\n",
       "«     └─────────────────────────┘      </pre>"
      ],
      "text/plain": [
       "                ┌───┐                ┌─────────────────────────┐     »\n",
       "q_0: ───────────┤ T ├─────────────■──┤ Ry(θ_test_circuit_ry_2) ├─────»\n",
       "     ┌──────────┴───┴──────────┐┌─┴─┐└─────────────────────────┘┌───┐»\n",
       "q_1: ┤ Rx(θ_test_circuit_rx_0) ├┤ X ├─────────────■─────────────┤ T ├»\n",
       "     ├─────────────────────────┤└───┘           ┌─┴─┐           └───┘»\n",
       "q_2: ┤ Rx(θ_test_circuit_rx_1) ├────────────────┤ X ├─────────────■──»\n",
       "     └──────────┬───┬──────────┘                └───┘           ┌─┴─┐»\n",
       "q_3: ───────────┤ S ├───────────────────────────────────────────┤ X ├»\n",
       "                └───┘                                           └───┘»\n",
       "«                                      \n",
       "«q_0: ─────────────■───────────────────\n",
       "«                ┌─┴─┐                 \n",
       "«q_1: ───────────┤ X ├────────────X────\n",
       "«                ├───┤            │    \n",
       "«q_2: ───────────┤ T ├────────────X──X─\n",
       "«     ┌──────────┴───┴──────────┐    │ \n",
       "«q_3: ┤ Rz(θ_test_circuit_rz_3) ├────X─\n",
       "«     └─────────────────────────┘      "
      ]
     },
     "metadata": {},
     "output_type": "display_data"
    },
    {
     "name": "stdout",
     "output_type": "stream",
     "text": [
      "\n",
      "3. Testing Evaluation...\n",
      "Circuit metrics: {'expressivity': np.float64(0.4878287410796692), 'entanglement': np.float64(0.6803660945976681), 'depth': 7, 'n_parameters': 4, 'n_cnot': 4}\n",
      "\n",
      "4. Testing Full Ansatz Generation...\n",
      "Generated ansatz with 6 qubits\n"
     ]
    },
    {
     "data": {
      "text/html": [
       "<pre style=\"word-wrap: normal;white-space: pre;background: #fff0;line-height: 1.1;font-family: &quot;Courier New&quot;,Courier,monospace\">     »\n",
       "q_0: »\n",
       "     »\n",
       "q_1: »\n",
       "     »\n",
       "q_2: »\n",
       "     »\n",
       "q_3: »\n",
       "     »\n",
       "q_4: »\n",
       "     »\n",
       "q_5: »\n",
       "     »\n",
       "«     ┌──────────────────────────────────────────────────────────────────────────────────────────────┐\n",
       "«q_0: ┤0                                                                                             ├\n",
       "«     │                                                                                              │\n",
       "«q_1: ┤1                                                                                             ├\n",
       "«     │                                                                                              │\n",
       "«q_2: ┤2                                                                                             ├\n",
       "«     │  circuit-3163(θ_sub_0_rx_2,θ_sub_0_rx_4,θ_sub_0_ry_0,θ_sub_0_ry_1,θ_sub_0_ry_5,θ_sub_0_rz_3) │\n",
       "«q_3: ┤3                                                                                             ├\n",
       "«     │                                                                                              │\n",
       "«q_4: ┤4                                                                                             ├\n",
       "«     │                                                                                              │\n",
       "«q_5: ┤5                                                                                             ├\n",
       "«     └──────────────────────────────────────────────────────────────────────────────────────────────┘</pre>"
      ],
      "text/plain": [
       "     »\n",
       "q_0: »\n",
       "     »\n",
       "q_1: »\n",
       "     »\n",
       "q_2: »\n",
       "     »\n",
       "q_3: »\n",
       "     »\n",
       "q_4: »\n",
       "     »\n",
       "q_5: »\n",
       "     »\n",
       "«     ┌──────────────────────────────────────────────────────────────────────────────────────────────┐\n",
       "«q_0: ┤0                                                                                             ├\n",
       "«     │                                                                                              │\n",
       "«q_1: ┤1                                                                                             ├\n",
       "«     │                                                                                              │\n",
       "«q_2: ┤2                                                                                             ├\n",
       "«     │  circuit-3163(θ_sub_0_rx_2,θ_sub_0_rx_4,θ_sub_0_ry_0,θ_sub_0_ry_1,θ_sub_0_ry_5,θ_sub_0_rz_3) │\n",
       "«q_3: ┤3                                                                                             ├\n",
       "«     │                                                                                              │\n",
       "«q_4: ┤4                                                                                             ├\n",
       "«     │                                                                                              │\n",
       "«q_5: ┤5                                                                                             ├\n",
       "«     └──────────────────────────────────────────────────────────────────────────────────────────────┘"
      ]
     },
     "metadata": {},
     "output_type": "display_data"
    },
    {
     "name": "stdout",
     "output_type": "stream",
     "text": [
      "\n",
      "5. Testing Final Evaluation...\n",
      "Final ansatz metrics: {'expressivity': np.float64(0.4368846912434291), 'entanglement': np.float64(0.7496916175958578), 'depth': 1, 'n_parameters': 6, 'n_cnot': 0}\n"
     ]
    }
   ],
   "source": [
    "# Test cell with debug prints\n",
    "coupling_map = [\n",
    "    (0,1), (1,2), (2,3), (3,4),\n",
    "    (0,5), (1,6), (2,7), (3,8), (4,9),\n",
    "    (5,6), (6,7), (7,8), (8,9)\n",
    "]\n",
    "\n",
    "print(\"Creating TopolAnsatz instance...\")\n",
    "topol = TopolAnsatz(coupling_map)\n",
    "\n",
    "print(\"\\n1. Testing Topology...\")\n",
    "topology = TopologyHandler(coupling_map)\n",
    "subgraphs = topology.get_connected_subgraphs(4)\n",
    "print(f\"Found {len(subgraphs)} 4-qubit subgraphs\")\n",
    "\n",
    "print(\"\\n2. Testing Circuit Building...\")\n",
    "norm_graph, index_map = topology.normalize_indices(subgraphs[0])\n",
    "print(\"Normalized graph nodes:\", norm_graph.nodes())\n",
    "print(\"Index mapping:\", index_map)\n",
    "builder = CircuitBuilder(norm_graph, \"test_circuit\")\n",
    "circuit = builder.create_circuit(depth=2)\n",
    "display(circuit.draw())\n",
    "\n",
    "print(\"\\n3. Testing Evaluation...\")\n",
    "evaluator = CircuitEvaluator()\n",
    "metrics = evaluator.get_circuit_metrics(circuit)\n",
    "print(\"Circuit metrics:\", metrics)\n",
    "\n",
    "print(\"\\n4. Testing Full Ansatz Generation...\")\n",
    "# Try with smaller number of qubits first\n",
    "ansatz = topol.generate_ansatz(n_qubits=6, depth=2)  # Start with 4 qubits\n",
    "print(\"Generated ansatz with\", ansatz.num_qubits, \"qubits\")\n",
    "display(ansatz.draw())\n",
    "\n",
    "print(\"\\n5. Testing Final Evaluation...\")\n",
    "final_metrics = topol.evaluate_ansatz(ansatz)\n",
    "print(\"Final ansatz metrics:\", final_metrics)"
   ]
  },
  {
   "cell_type": "code",
   "execution_count": 5,
   "metadata": {},
   "outputs": [
    {
     "name": "stdout",
     "output_type": "stream",
     "text": [
      "\n",
      "Testing partitioning scheme 1: [4, 4, 2]\n"
     ]
    }
   ],
   "source": [
    "# Test code for partitioned ansatz\n",
    "coupling_map = [\n",
    "    (0,1), (1,2), (2,3), (3,4),\n",
    "    (0,5), (1,6), (2,7), (3,8), (4,9),\n",
    "    (5,6), (6,7), (7,8), (8,9)\n",
    "]\n",
    "\n",
    "# Create TopolAnsatz instance\n",
    "topol = TopolAnsatz(coupling_map)\n",
    "\n",
    "# Test different partitioning schemes\n",
    "partitioning_schemes = [\n",
    "    [4, 4, 2],  # Scheme 1: two 4-qubit and one 2-qubit circuits\n",
    "    [4, 3, 3],  # Scheme 2: one 4-qubit and two 3-qubit circuits\n",
    "    [3, 3, 2, 2]  # Scheme 3: two 3-qubit and two 2-qubit circuits\n",
    "]\n",
    "\n",
    "for i, partition_sizes in enumerate(partitioning_schemes):\n",
    "    print(f\"\\nTesting partitioning scheme {i+1}: {partition_sizes}\")\n",
    "    try:\n",
    "        # Generate partitioned ansatz\n",
    "        ansatz = topol.generate_partitioned_ansatz(\n",
    "            total_qubits=10,\n",
    "            partition_sizes=partition_sizes,\n",
    "            depth=2\n",
    "        )\n",
    "        \n",
    "        # Display circuit\n",
    "        print(f\"Successfully generated ansatz with {ansatz.num_qubits} qubits\")\n",
    "        print(\"Circuit structure:\")\n",
    "        display(ansatz.draw())\n",
    "        \n",
    "        # Evaluate metrics\n",
    "        metrics = topol.evaluate_ansatz(ansatz)\n",
    "        print(\"Circuit metrics:\", metrics)\n",
    "        \n",
    "        # Visualize subcircuit structure\n",
    "        print(\"\\nSubcircuit connectivity:\")\n",
    "        plt.figure(figsize=(8, 6))\n",
    "        nx.draw(topol.graph, with_labels=True, node_color='lightblue', \n",
    "                node_size=500, font_size=16)\n",
    "        plt.title(f\"Partitioning: {partition_sizes}\")\n",
    "        plt.show()\n",
    "        \n",
    "    except ValueError as e:\n",
    "        print(f\"Failed to generate ansatz: {e}\")"
   ]
  },
  {
   "cell_type": "code",
   "execution_count": null,
   "metadata": {},
   "outputs": [],
   "source": []
  }
 ],
 "metadata": {
  "kernelspec": {
   "display_name": "topol",
   "language": "python",
   "name": "python3"
  },
  "language_info": {
   "codemirror_mode": {
    "name": "ipython",
    "version": 3
   },
   "file_extension": ".py",
   "mimetype": "text/x-python",
   "name": "python",
   "nbconvert_exporter": "python",
   "pygments_lexer": "ipython3",
   "version": "3.9.21"
  }
 },
 "nbformat": 4,
 "nbformat_minor": 2
}
